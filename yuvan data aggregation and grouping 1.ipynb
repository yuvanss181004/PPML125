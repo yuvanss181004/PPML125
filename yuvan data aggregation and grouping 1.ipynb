{
 "cells": [
  {
   "cell_type": "code",
   "execution_count": 9,
   "id": "7a0d6307",
   "metadata": {},
   "outputs": [
    {
     "name": "stdout",
     "output_type": "stream",
     "text": [
      "\n",
      " original dataframe:\n",
      "       name categories  value  score\n",
      "0    Alice          A      2     97\n",
      "1      Bob          B      4     93\n",
      "2  Charlie          C      3     77\n",
      "3    Alice          A      3     69\n",
      "4      Bob          B      1     81\n",
      "5  Charlie          C      2     99\n",
      "\n",
      " group and aggregation with one column:\n",
      "       name  value\n",
      "0    Alice      5\n",
      "1      Bob      5\n",
      "2  Charlie      5\n"
     ]
    }
   ],
   "source": [
    "import numpy as np\n",
    "import pandas as pd \n",
    "df=pd.DataFrame({'name':['Alice','Bob','Charlie','Alice','Bob','Charlie'],'categories':['A','B','C','A','B','C'],'value':np.random.randint(1,5,size=6),'score':np.random.randint(60,100,size=6)})\n",
    "print(\"\\n original dataframe:\\n\",df)\n",
    "df1=df.groupby(('name'),as_index=False)['value'].sum()\n",
    "print(\"\\n group and aggregation with one column:\\n\",df1)"
   ]
  },
  {
   "cell_type": "code",
   "execution_count": 10,
   "id": "d22ed4a6",
   "metadata": {},
   "outputs": [
    {
     "name": "stdout",
     "output_type": "stream",
     "text": [
      "\n",
      " group and aggregation with 2 column sum:\n",
      "       name  value  score\n",
      "0    Alice      5    166\n",
      "1      Bob      5    174\n",
      "2  Charlie      5    176\n"
     ]
    }
   ],
   "source": [
    "df2=df.groupby(('name'),as_index=False)[['value','score']].sum()\n",
    "print(\"\\n group and aggregation with 2 column sum:\\n\",df2)"
   ]
  },
  {
   "cell_type": "code",
   "execution_count": 11,
   "id": "cf116a9c",
   "metadata": {},
   "outputs": [
    {
     "name": "stdout",
     "output_type": "stream",
     "text": [
      "\n",
      " group and aggregation with 2 column sum:\n",
      "       name  value\n",
      "0    Alice      5\n",
      "1      Bob      5\n",
      "2  Charlie      5\n"
     ]
    }
   ],
   "source": [
    "df3=df.groupby(('name'),as_index=False)['value'].agg('sum')\n",
    "print(\"\\n group and aggregation with 2 column sum:\\n\",df3)"
   ]
  },
  {
   "cell_type": "code",
   "execution_count": 12,
   "id": "bbed7da7",
   "metadata": {},
   "outputs": [
    {
     "name": "stdout",
     "output_type": "stream",
     "text": [
      "\n",
      " groupby name multiple aggregration:\n",
      "         value              score      \n",
      "          sum mean min max   sum  mean\n",
      "name                                  \n",
      "Alice       5  2.5   2   3   166  83.0\n",
      "Bob         5  2.5   1   4   174  87.0\n",
      "Charlie     5  2.5   2   3   176  88.0\n"
     ]
    }
   ],
   "source": [
    "df4=df.groupby('name').agg({'value':['sum','mean','min','max'],'score':['sum','mean']})\n",
    "print(\"\\n groupby name multiple aggregration:\\n\",df4)"
   ]
  },
  {
   "cell_type": "code",
   "execution_count": 15,
   "id": "c569c330",
   "metadata": {},
   "outputs": [
    {
     "name": "stdout",
     "output_type": "stream",
     "text": [
      "\n",
      " group and count:\n",
      "       name  value\n",
      "0    Alice      2\n",
      "1      Bob      2\n",
      "2  Charlie      2\n"
     ]
    }
   ],
   "source": [
    "df5=df.groupby(('name'),as_index=False)['value'].count()\n",
    "print(\"\\n group and count:\\n\",df5)"
   ]
  },
  {
   "cell_type": "code",
   "execution_count": 16,
   "id": "3fd425ab",
   "metadata": {},
   "outputs": [
    {
     "name": "stdout",
     "output_type": "stream",
     "text": [
      "\n",
      " group and count:\n",
      "          categories  value  score\n",
      "name                             \n",
      "Alice             2      2      2\n",
      "Bob               2      2      2\n",
      "Charlie           2      2      2\n"
     ]
    }
   ],
   "source": [
    "df6=df.groupby(('name')).count()\n",
    "print(\"\\n group and count:\\n\",df6)"
   ]
  },
  {
   "cell_type": "code",
   "execution_count": 18,
   "id": "64e60092",
   "metadata": {},
   "outputs": [
    {
     "name": "stdout",
     "output_type": "stream",
     "text": [
      "\n",
      " group and display first:\n",
      "       name  value\n",
      "0    Alice      2\n",
      "1      Bob      4\n",
      "2  Charlie      3\n"
     ]
    }
   ],
   "source": [
    "df7=df.groupby(('name'),as_index=False)['value'].first()\n",
    "print(\"\\n group and display first:\\n\",df7)"
   ]
  },
  {
   "cell_type": "code",
   "execution_count": 19,
   "id": "b6bbbb24",
   "metadata": {},
   "outputs": [
    {
     "name": "stdout",
     "output_type": "stream",
     "text": [
      "\n",
      " group and count:\n",
      "         categories  value  score\n",
      "name                            \n",
      "Alice            A      2     97\n",
      "Bob              B      4     93\n",
      "Charlie          C      3     77\n"
     ]
    }
   ],
   "source": [
    "df8=df.groupby(('name')).first()\n",
    "print(\"\\n group and count:\\n\",df8)"
   ]
  },
  {
   "cell_type": "code",
   "execution_count": 20,
   "id": "3172e2c4",
   "metadata": {},
   "outputs": [
    {
     "name": "stdout",
     "output_type": "stream",
     "text": [
      "\n",
      " group and display last:\n",
      "       name  value\n",
      "0    Alice      3\n",
      "1      Bob      1\n",
      "2  Charlie      2\n"
     ]
    }
   ],
   "source": [
    "df9=df.groupby(('name'),as_index=False)['value'].last()\n",
    "print(\"\\n group and display last:\\n\",df9)"
   ]
  },
  {
   "cell_type": "code",
   "execution_count": 22,
   "id": "871d3458",
   "metadata": {},
   "outputs": [
    {
     "name": "stdout",
     "output_type": "stream",
     "text": [
      "\n",
      " group and display from last:\n",
      "         categories  value  score\n",
      "name                            \n",
      "Alice            A      3     69\n",
      "Bob              B      1     81\n",
      "Charlie          C      2     99\n"
     ]
    }
   ],
   "source": [
    "df10=df.groupby(('name')).last()\n",
    "print(\"\\n group and display from last:\\n\",df10)"
   ]
  },
  {
   "cell_type": "code",
   "execution_count": null,
   "id": "1ee6279a",
   "metadata": {},
   "outputs": [],
   "source": []
  }
 ],
 "metadata": {
  "kernelspec": {
   "display_name": "Python 3 (ipykernel)",
   "language": "python",
   "name": "python3"
  },
  "language_info": {
   "codemirror_mode": {
    "name": "ipython",
    "version": 3
   },
   "file_extension": ".py",
   "mimetype": "text/x-python",
   "name": "python",
   "nbconvert_exporter": "python",
   "pygments_lexer": "ipython3",
   "version": "3.11.5"
  }
 },
 "nbformat": 4,
 "nbformat_minor": 5
}
