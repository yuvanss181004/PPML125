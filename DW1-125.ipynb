{
 "cells": [
  {
   "cell_type": "code",
   "execution_count": 9,
   "id": "6e977e62-b8e5-42b1-a6f1-94eb3634a8cc",
   "metadata": {},
   "outputs": [
    {
     "name": "stdout",
     "output_type": "stream",
     "text": [
      "DF1:\n",
      "    name  age\n",
      "0   Ram   20\n",
      "1   Raj   21\n",
      "2  Ravi   22\n",
      "DF2:\n",
      "    qualified\n",
      "0       True\n",
      "1      False\n",
      "2      False\n",
      "Joining:\n",
      "    name  age  qualified\n",
      "0   Ram   20       True\n",
      "1   Raj   21      False\n",
      "2  Ravi   22      False\n"
     ]
    }
   ],
   "source": [
    "import pandas as pd\n",
    "d1={\"name\":[\"Ram\",\"Raj\",\"Ravi\"],\"age\":[20,21,22]}\n",
    "d2={\"qualified\":[True,False,False]}\n",
    "df1=pd.DataFrame(d1)\n",
    "print(\"DF1:\\n\",df1)\n",
    "df2=pd.DataFrame(d2)\n",
    "print(\"DF2:\\n\",df2)\n",
    "newdf=df1.join(df2)\n",
    "print(\"Joining:\\n\",newdf)\n"
   ]
  },
  {
   "cell_type": "code",
   "execution_count": 13,
   "id": "3e9df67e-432e-412f-9f01-b4086607534c",
   "metadata": {},
   "outputs": [
    {
     "name": "stdout",
     "output_type": "stream",
     "text": [
      "    0   1\n",
      "0  11  12\n",
      "1   3   4\n",
      "   0  1\n",
      "0  5  6\n",
      "1  7  8\n",
      "    0   1\n",
      "0  11  12\n",
      "1   3   4\n"
     ]
    }
   ],
   "source": [
    "df1=pd.DataFrame([[11,12],[3,4]])\n",
    "df2=pd.DataFrame([[5,6],[7,8]])\n",
    "def myfunc(a,b):\n",
    "    if(a.sum()>b.sum()):\n",
    "        return a\n",
    "    else:\n",
    "        return b\n",
    "print(df1)\n",
    "print(df2)\n",
    "print(df1.combine(df2,myfunc))\n",
    "    "
   ]
  },
  {
   "cell_type": "code",
   "execution_count": 17,
   "id": "ffb04976-d0cf-4456-b431-adc6c4d7c442",
   "metadata": {},
   "outputs": [
    {
     "name": "stdout",
     "output_type": "stream",
     "text": [
      "DF1:\n",
      "   name  age\n",
      "0  Sai   20\n",
      "1  Sub   21\n",
      "2  Poc   22\n",
      "DF2:\n",
      "   name  age\n",
      "0  Sai   20\n",
      "1  Sub   21\n",
      "2  Poc   22\n",
      "Left Merge:\n",
      "     name_x  age name_y\n",
      "0     Yuvi   20    Sai\n",
      "1  Rithika   21    Sub\n",
      "2   Sanjay   22    Poc\n",
      "Right Merge:\n",
      "   name_x  age   name_y\n",
      "0    Sai   20     Yuvi\n",
      "1    Sub   21  Rithika\n",
      "2    Poc   22   Sanjay\n"
     ]
    }
   ],
   "source": [
    "df1={\"name\":['Sai','Sub','Poc'],\n",
    "     \"age\":[20,21,22]}\n",
    "df2={\"name\":[\"Yuvi\",\"Rithika\",\"Sanjay\"],\n",
    "     \"age\":[20,21,22]}\n",
    "d1=pd.DataFrame(df1)\n",
    "print(\"DF1:\\n\",d1)\n",
    "d2=pd.DataFrame(df2)\n",
    "print(\"DF2:\\n\",d1)\n",
    "newdf1=d2.merge(d1,on=\"age\")\n",
    "newdf2=d1.merge(d2,on=\"age\")\n",
    "print(\"Left Merge:\\n\",newdf1)\n",
    "print(\"Right Merge:\\n\",newdf2)"
   ]
  },
  {
   "cell_type": "code",
   "execution_count": 19,
   "id": "925ac68b-abfd-458c-b923-db7b9ef39276",
   "metadata": {},
   "outputs": [
    {
     "name": "stdout",
     "output_type": "stream",
     "text": [
      "  team  points  assist  rebounds\n",
      "0    A      90      12        50\n",
      "1    B      80      34        60\n",
      "2    C      70      23        65\n",
      "3    D      60      29        70\n",
      "\n",
      "Reshape:\n",
      "    team  variable  value\n",
      "0     A    points     90\n",
      "1     B    points     80\n",
      "2     C    points     70\n",
      "3     D    points     60\n",
      "4     A    assist     12\n",
      "5     B    assist     34\n",
      "6     C    assist     23\n",
      "7     D    assist     29\n",
      "8     A  rebounds     50\n",
      "9     B  rebounds     60\n",
      "10    C  rebounds     65\n",
      "11    D  rebounds     70\n"
     ]
    }
   ],
   "source": [
    "df=pd.DataFrame({'team':['A','B','C','D'],\n",
    "                 'points':[90,80,70,60],\n",
    "                 'assist':[12,34,23,29],\n",
    "                 'rebounds':[50,60,65,70]\n",
    "                })\n",
    "print(df)\n",
    "df=pd.melt(df,id_vars='team',value_vars=['points','assist','rebounds'])\n",
    "print(\"\\nReshape:\\n\",df)"
   ]
  },
  {
   "cell_type": "code",
   "execution_count": null,
   "id": "a0c2109d-88cf-4cea-9578-bffc69baac86",
   "metadata": {},
   "outputs": [],
   "source": []
  }
 ],
 "metadata": {
  "kernelspec": {
   "display_name": "Python 3 (ipykernel)",
   "language": "python",
   "name": "python3"
  },
  "language_info": {
   "codemirror_mode": {
    "name": "ipython",
    "version": 3
   },
   "file_extension": ".py",
   "mimetype": "text/x-python",
   "name": "python",
   "nbconvert_exporter": "python",
   "pygments_lexer": "ipython3",
   "version": "3.12.7"
  }
 },
 "nbformat": 4,
 "nbformat_minor": 5
}
