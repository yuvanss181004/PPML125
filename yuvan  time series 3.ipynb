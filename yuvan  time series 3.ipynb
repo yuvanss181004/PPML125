{
 "cells": [
  {
   "cell_type": "code",
   "execution_count": 3,
   "id": "4599029e",
   "metadata": {},
   "outputs": [
    {
     "name": "stdout",
     "output_type": "stream",
     "text": [
      "Date index\n",
      " 2011-01-02   -0.178079\n",
      "2011-01-05   -0.419016\n",
      "2011-01-07   -0.670277\n",
      "2011-01-08   -0.055683\n",
      "2011-01-10   -1.150556\n",
      "2011-01-12    0.221070\n",
      "dtype: float64\n"
     ]
    }
   ],
   "source": [
    "import pandas as pd \n",
    "import numpy as np\n",
    "from datetime import datetime\n",
    "dates=[datetime(2011,1,2),datetime(2011,1,5),datetime(2011,1,7),datetime(2011,1,8),datetime(2011,1,10),datetime(2011,1,12)]\n",
    "ts=pd.Series(np.random.randn(6),index=dates)\n",
    "print(\"Date index\\n\",ts)"
   ]
  },
  {
   "cell_type": "code",
   "execution_count": 4,
   "id": "8051b7d8",
   "metadata": {},
   "outputs": [
    {
     "name": "stdout",
     "output_type": "stream",
     "text": [
      "\n",
      "Date Index alone from the series: \n",
      " DatetimeIndex(['2011-01-02', '2011-01-05', '2011-01-07', '2011-01-08',\n",
      "               '2011-01-10', '2011-01-12'],\n",
      "              dtype='datetime64[ns]', freq=None)\n"
     ]
    }
   ],
   "source": [
    "print(\"\\nDate Index alone from the series: \\n\",ts.index)"
   ]
  },
  {
   "cell_type": "code",
   "execution_count": 5,
   "id": "47cf778a",
   "metadata": {},
   "outputs": [
    {
     "name": "stdout",
     "output_type": "stream",
     "text": [
      "\n",
      "Second index:\n",
      " 2011-01-07 00:00:00\n"
     ]
    }
   ],
   "source": [
    "stamp=ts.index[2]\n",
    "print(\"\\nSecond index:\\n\", stamp)"
   ]
  },
  {
   "cell_type": "code",
   "execution_count": 7,
   "id": "14c156d6",
   "metadata": {},
   "outputs": [
    {
     "name": "stdout",
     "output_type": "stream",
     "text": [
      "\n",
      "Daterange up to 1000 days:\n",
      " 2000-01-01   -1.016918\n",
      "2000-01-02    0.398101\n",
      "2000-01-03   -0.011098\n",
      "2000-01-04   -0.826066\n",
      "2000-01-05   -0.491679\n",
      "                ...   \n",
      "2002-09-22    0.895096\n",
      "2002-09-23   -0.005066\n",
      "2002-09-24   -0.185295\n",
      "2002-09-25    0.357730\n",
      "2002-09-26    1.155239\n",
      "Freq: D, Length: 1000, dtype: float64\n"
     ]
    }
   ],
   "source": [
    "longer_ts=pd.Series(np.random.randn(1000),\n",
    "index=pd.date_range(\"2000-01-01\",periods=1000))\n",
    "print(\"\\nDaterange up to 1000 days:\\n\",longer_ts)"
   ]
  },
  {
   "cell_type": "code",
   "execution_count": 8,
   "id": "c5853a2b",
   "metadata": {},
   "outputs": [
    {
     "name": "stdout",
     "output_type": "stream",
     "text": [
      "\n",
      "Date range-2001 year:\n",
      " 2001-01-01    0.900268\n",
      "2001-01-02   -2.222705\n",
      "2001-01-03   -1.138125\n",
      "2001-01-04   -0.427532\n",
      "2001-01-05   -0.152003\n",
      "                ...   \n",
      "2001-12-27   -0.862978\n",
      "2001-12-28    0.899452\n",
      "2001-12-29    1.180326\n",
      "2001-12-30    2.117175\n",
      "2001-12-31   -1.012635\n",
      "Freq: D, Length: 365, dtype: float64\n"
     ]
    }
   ],
   "source": [
    "print(\"\\nDate range-2001 year:\\n\", longer_ts[\"2001\"])"
   ]
  },
  {
   "cell_type": "code",
   "execution_count": 9,
   "id": "f0c2a998",
   "metadata": {},
   "outputs": [
    {
     "name": "stdout",
     "output_type": "stream",
     "text": [
      "\n",
      "Date range-05 month 2001 year:\n",
      " 2001-05-01    0.173726\n",
      "2001-05-02    0.862200\n",
      "2001-05-03    0.987795\n",
      "2001-05-04    0.486102\n",
      "2001-05-05    0.853634\n",
      "2001-05-06   -1.619735\n",
      "2001-05-07    0.176924\n",
      "2001-05-08    0.327771\n",
      "2001-05-09    0.087910\n",
      "2001-05-10   -0.055416\n",
      "2001-05-11   -1.344279\n",
      "2001-05-12    0.295737\n",
      "2001-05-13   -0.611436\n",
      "2001-05-14    0.151774\n",
      "2001-05-15    0.355901\n",
      "2001-05-16    0.823218\n",
      "2001-05-17    0.663850\n",
      "2001-05-18   -1.292122\n",
      "2001-05-19   -1.165424\n",
      "2001-05-20    0.129479\n",
      "2001-05-21    1.012533\n",
      "2001-05-22    0.474497\n",
      "2001-05-23    2.190914\n",
      "2001-05-24    0.536209\n",
      "2001-05-25   -0.095349\n",
      "2001-05-26   -1.216250\n",
      "2001-05-27    1.104566\n",
      "2001-05-28   -1.360112\n",
      "2001-05-29    0.011798\n",
      "2001-05-30   -0.374901\n",
      "2001-05-31   -1.071506\n",
      "Freq: D, dtype: float64\n"
     ]
    }
   ],
   "source": [
    "print(\"\\nDate range-05 month 2001 year:\\n\", longer_ts[\"2001-05\"])"
   ]
  },
  {
   "cell_type": "code",
   "execution_count": 10,
   "id": "ef35d313",
   "metadata": {},
   "outputs": [
    {
     "name": "stdout",
     "output_type": "stream",
     "text": [
      "\n",
      "Date range-first few dates in 2000 year:\n",
      " 2000-01-01   -1.016918\n",
      "2000-01-02    0.398101\n",
      "2000-01-03   -0.011098\n",
      "2000-01-04   -0.826066\n",
      "2000-01-05   -0.491679\n",
      "Freq: D, dtype: float64\n"
     ]
    }
   ],
   "source": [
    "print(\"\\nDate range-first few dates in 2000 year:\\n\",longer_ts[\"2000\"].head())"
   ]
  },
  {
   "cell_type": "code",
   "execution_count": 11,
   "id": "3e8ae75f",
   "metadata": {},
   "outputs": [
    {
     "name": "stdout",
     "output_type": "stream",
     "text": [
      "\n",
      "Date range-first 15 dates in 02 month 2001 year:\n",
      " 2000-02-01   -0.360939\n",
      "2000-02-02    0.303684\n",
      "2000-02-03   -0.249065\n",
      "2000-02-04   -0.140003\n",
      "2000-02-05   -0.493930\n",
      "2000-02-06    0.852514\n",
      "2000-02-07    1.505352\n",
      "2000-02-08   -0.849942\n",
      "2000-02-09    0.758306\n",
      "2000-02-10   -0.533593\n",
      "2000-02-11    0.763301\n",
      "2000-02-12    1.274146\n",
      "2000-02-13    0.477173\n",
      "2000-02-14    0.149207\n",
      "2000-02-15    0.900365\n",
      "Freq: D, dtype: float64\n"
     ]
    }
   ],
   "source": [
    "print(\"\\nDate range-first 15 dates in 02 month 2001 year:\\n\",longer_ts[\"2000-02\"].head(15))"
   ]
  },
  {
   "cell_type": "code",
   "execution_count": 12,
   "id": "96750f79",
   "metadata": {},
   "outputs": [
    {
     "name": "stdout",
     "output_type": "stream",
     "text": [
      "\n",
      "Date range-rom 26-9-2001:\n",
      " 2000-09-26   -0.708149\n",
      "2000-09-27   -0.153548\n",
      "2000-09-28   -1.824205\n",
      "2000-09-29   -1.131339\n",
      "2000-09-30   -1.022079\n",
      "                ...   \n",
      "2002-09-22    0.895096\n",
      "2002-09-23   -0.005066\n",
      "2002-09-24   -0.185295\n",
      "2002-09-25    0.357730\n",
      "2002-09-26    1.155239\n",
      "Freq: D, Length: 731, dtype: float64\n"
     ]
    }
   ],
   "source": [
    "print(\"\\nDate range-rom 26-9-2001:\\n\",longer_ts[datetime(2000,9,26):])"
   ]
  },
  {
   "cell_type": "code",
   "execution_count": 17,
   "id": "a0933561",
   "metadata": {},
   "outputs": [
    {
     "name": "stdout",
     "output_type": "stream",
     "text": [
      "\n",
      "Date range from 26-9-2001 to 25-9-2002:\n",
      " 2001-09-26   -0.045546\n",
      "2001-09-27   -0.212031\n",
      "2001-09-28   -2.787514\n",
      "2001-09-29    1.816835\n",
      "2001-09-30    1.279949\n",
      "                ...   \n",
      "2002-09-21   -0.392366\n",
      "2002-09-22    0.895096\n",
      "2002-09-23   -0.005066\n",
      "2002-09-24   -0.185295\n",
      "2002-09-25    0.357730\n",
      "Freq: D, Length: 365, dtype: float64\n"
     ]
    }
   ],
   "source": [
    "print(\"\\nDate range from 26-9-2001 to 25-9-2002:\\n\",longer_ts[datetime(2001,9,26):datetime(2002,9,25)])"
   ]
  }
 ],
 "metadata": {
  "kernelspec": {
   "display_name": "Python 3 (ipykernel)",
   "language": "python",
   "name": "python3"
  },
  "language_info": {
   "codemirror_mode": {
    "name": "ipython",
    "version": 3
   },
   "file_extension": ".py",
   "mimetype": "text/x-python",
   "name": "python",
   "nbconvert_exporter": "python",
   "pygments_lexer": "ipython3",
   "version": "3.11.5"
  }
 },
 "nbformat": 4,
 "nbformat_minor": 5
}
