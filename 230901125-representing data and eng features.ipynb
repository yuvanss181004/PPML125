{
  "nbformat": 4,
  "nbformat_minor": 0,
  "metadata": {
    "colab": {
      "provenance": [],
      "authorship_tag": "ABX9TyOnVzVxVQy9DBtkxX5Iyt+9",
      "include_colab_link": true
    },
    "kernelspec": {
      "name": "python3",
      "display_name": "Python 3"
    },
    "language_info": {
      "name": "python"
    }
  },
  "cells": [
    {
      "cell_type": "markdown",
      "metadata": {
        "id": "view-in-github",
        "colab_type": "text"
      },
      "source": [
        "<a href=\"https://colab.research.google.com/github/Purusoth078/SPURUSOTHAMAN/blob/main/230901078-Representing%20Data%20and%20Engineering%20Features.ipynb\" target=\"_parent\"><img src=\"https://colab.research.google.com/assets/colab-badge.svg\" alt=\"Open In Colab\"/></a>"
      ]
    },
    {
      "cell_type": "code",
      "execution_count": 1,
      "metadata": {
        "colab": {
          "base_uri": "https://localhost:8080/"
        },
        "id": "tb6C6YOwjzN5",
        "outputId": "dfafe5e1-8288-407d-dc62-30fcdf4b3051"
      },
      "outputs": [
        {
          "output_type": "stream",
          "name": "stdout",
          "text": [
            "Before:\n",
            "\n",
            "    Age\n",
            "0    42\n",
            "1    15\n",
            "2    67\n",
            "3    55\n",
            "4     1\n",
            "5    29\n",
            "6    75\n",
            "7    89\n",
            "8     4\n",
            "9    10\n",
            "10   15\n",
            "11   38\n",
            "12   22\n",
            "13   77\n",
            "After:\n",
            "\n",
            "    Age         Label\n",
            "0    42         Adult\n",
            "1    15         Child\n",
            "2    67       Elderly\n",
            "3    55         Adult\n",
            "4     1  Baby/Toddler\n",
            "5    29         Adult\n",
            "6    75       Elderly\n",
            "7    89       Elderly\n",
            "8     4         Child\n",
            "9    10         Child\n",
            "10   15         Child\n",
            "11   38         Adult\n",
            "12   22         Adult\n",
            "13   77       Elderly\n",
            "Categories:\n",
            "\n",
            "Label\n",
            "Adult           5\n",
            "Child           4\n",
            "Elderly         4\n",
            "Baby/Toddler    1\n",
            "Name: count, dtype: int64\n"
          ]
        }
      ],
      "source": [
        "import pandas as pd\n",
        "import numpy as np\n",
        "df=pd.DataFrame({'Age':[42,15,67,55,1,29,75,89,4,10,15,38,22,77]})\n",
        "print(\"Before:\\n\")\n",
        "print(df)\n",
        "df['Label']=pd.cut(x=df['Age'],bins=[0,3,17,63,99],labels=['Baby/Toddler','Child','Adult','Elderly'])\n",
        "print(\"After:\\n\")\n",
        "print(df)\n",
        "print(\"Categories:\\n\")\n",
        "print(df['Label'].value_counts())"
      ]
    },
    {
      "cell_type": "code",
      "source": [
        "import pandas as pd\n",
        "import numpy as np\n",
        "df=pd.DataFrame({'Height':[150.4,157.6,170,176,164.2,155,159.2,175,162.4,176,153,170.9]})\n",
        "print(\"Before:\\n\")\n",
        "print(df)\n",
        "df['Label']=pd.cut(x=df['Height'],bins=[150,157,169,180],labels=['Short','Average','Tall'])\n",
        "print(\"After:\\n\")\n",
        "print(df)\n",
        "print(\"Categories:\")\n",
        "print(df['Label'].value_counts())"
      ],
      "metadata": {
        "colab": {
          "base_uri": "https://localhost:8080/"
        },
        "id": "oBuxQaEjkBYH",
        "outputId": "bb4dfbff-a88d-4a7e-8405-c5887c82b928"
      },
      "execution_count": 2,
      "outputs": [
        {
          "output_type": "stream",
          "name": "stdout",
          "text": [
            "Before:\n",
            "\n",
            "    Height\n",
            "0    150.4\n",
            "1    157.6\n",
            "2    170.0\n",
            "3    176.0\n",
            "4    164.2\n",
            "5    155.0\n",
            "6    159.2\n",
            "7    175.0\n",
            "8    162.4\n",
            "9    176.0\n",
            "10   153.0\n",
            "11   170.9\n",
            "After:\n",
            "\n",
            "    Height    Label\n",
            "0    150.4    Short\n",
            "1    157.6  Average\n",
            "2    170.0     Tall\n",
            "3    176.0     Tall\n",
            "4    164.2  Average\n",
            "5    155.0    Short\n",
            "6    159.2  Average\n",
            "7    175.0     Tall\n",
            "8    162.4  Average\n",
            "9    176.0     Tall\n",
            "10   153.0    Short\n",
            "11   170.9     Tall\n",
            "Categories:\n",
            "Label\n",
            "Tall       5\n",
            "Average    4\n",
            "Short      3\n",
            "Name: count, dtype: int64\n"
          ]
        }
      ]
    }
  ]
}
