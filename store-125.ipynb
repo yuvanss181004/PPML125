{
 "cells": [
  {
   "cell_type": "code",
   "execution_count": 2,
   "id": "96c73c48",
   "metadata": {},
   "outputs": [
    {
     "name": "stdout",
     "output_type": "stream",
     "text": [
      "       a  b  c\n",
      "One    1  2  3\n",
      "Two    4  5  6\n",
      "Three  7  8  9\n"
     ]
    }
   ],
   "source": [
    "import pandas as pd\n",
    "df=pd.DataFrame([[1,2,3],[4,5,6],[7,8,9]],index=['One','Two','Three'],columns=['a','b','c'])\n",
    "print(df)"
   ]
  },
  {
   "cell_type": "code",
   "execution_count": 3,
   "id": "3c9203bd",
   "metadata": {},
   "outputs": [],
   "source": [
    "df.to_excel(\"/Users/student/Downloads/data1.xlsx\")\n",
    "df.to_excel(\"/Users/student/Downloads/data2.xlsx\")"
   ]
  },
  {
   "cell_type": "code",
   "execution_count": 4,
   "id": "ac067f36",
   "metadata": {},
   "outputs": [],
   "source": [
    "import pandas as pd\n",
    "df=pd.DataFrame([[10,20,30],[240,50,60],[70,80,90]],index=['Four','Five','Six'],columns=['x','y','z'])\n",
    "df.to_excel('/Users/student/Downloads/data1.xlsx')\n",
    "df=pd.DataFrame([[6,8],[1,2]],index=['a','b'],columns=['x','y'])\n",
    "df.to_excel(\"/Users/student/Downloads/data2.xlsx\")\n",
    "x=pd.read_excel('/Users/student/Downloads/data1.xlsx')\n",
    "y=pd.read_excel(\"/Users/student/Downloads/data2.xlsx\")\n",
    "z=pd.concat([x,y])\n",
    "z.to_excel(\"/Users/student/Downloads/data3.xlsx\")"
   ]
  },
  {
   "cell_type": "code",
   "execution_count": 5,
   "id": "c00e628e",
   "metadata": {},
   "outputs": [
    {
     "name": "stdout",
     "output_type": "stream",
     "text": [
      "  Unnamed: 0    x   y     z\n",
      "1          b    1   2   NaN\n",
      "0          a    6   8   NaN\n",
      "0       Four   10  20  30.0\n",
      "2        Six   70  80  90.0\n",
      "1       Five  240  50  60.0\n"
     ]
    }
   ],
   "source": [
    "df=z.sort_values(['x'])\n",
    "print(df)\n",
    "df.to_excel(\"/Users/student/Downloads/data3.xlsx\")"
   ]
  },
  {
   "cell_type": "code",
   "execution_count": 6,
   "id": "2548f439",
   "metadata": {},
   "outputs": [
    {
     "name": "stdout",
     "output_type": "stream",
     "text": [
      "  Unnamed: 0    x   y     z\n",
      "1          b    1   2   NaN\n",
      "0          a    6   8   NaN\n",
      "0       Four   10  20  30.0\n",
      "1       Five  240  50  60.0\n",
      "2        Six   70  80  90.0\n"
     ]
    }
   ],
   "source": [
    "df=z.sort_values(['y'])\n",
    "print(df)\n",
    "df.to_excel(\"/Users/student/Downloads/data3.xlsx\")"
   ]
  },
  {
   "cell_type": "code",
   "execution_count": 7,
   "id": "941f3ca0",
   "metadata": {},
   "outputs": [
    {
     "name": "stdout",
     "output_type": "stream",
     "text": [
      "   Unnamed: 0.1 Unnamed: 0    x   y     z\n",
      "0             1          b    1   2   NaN\n",
      "1             0          a    6   8   NaN\n",
      "2             0       Four   10  20  30.0\n",
      "3             1       Five  240  50  60.0\n",
      "4             2        Six   70  80  90.0\n",
      "['Unnamed: 0.1', 'Unnamed: 0', 'x', 'y', 'z']\n",
      "5\n"
     ]
    }
   ],
   "source": [
    "df=pd.read_excel(\"/Users/student/Downloads/data3.xlsx\")\n",
    "print(df)\n",
    "print(list(df))\n",
    "print(format(len(df)))"
   ]
  },
  {
   "cell_type": "code",
   "execution_count": null,
   "id": "1e066fd5",
   "metadata": {},
   "outputs": [],
   "source": []
  }
 ],
 "metadata": {
  "kernelspec": {
   "display_name": "Python 3 (ipykernel)",
   "language": "python",
   "name": "python3"
  },
  "language_info": {
   "codemirror_mode": {
    "name": "ipython",
    "version": 3
   },
   "file_extension": ".py",
   "mimetype": "text/x-python",
   "name": "python",
   "nbconvert_exporter": "python",
   "pygments_lexer": "ipython3",
   "version": "3.11.4"
  }
 },
 "nbformat": 4,
 "nbformat_minor": 5
}
