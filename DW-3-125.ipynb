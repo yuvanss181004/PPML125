{
 "cells": [
  {
   "cell_type": "code",
   "execution_count": 1,
   "id": "899ad7d2",
   "metadata": {},
   "outputs": [
    {
     "name": "stdout",
     "output_type": "stream",
     "text": [
      "\n",
      " original DataFrame\n",
      "        Brand  Years  Sold\n",
      "0     Maruti   2010     6\n",
      "1     Maruti   2011     7\n",
      "2     Maruti   2009     9\n",
      "3     Maruti   2013     8\n",
      "4    Hyundai   2010     3\n",
      "5    Hyundai   2011     5\n",
      "6     Toyota   2011     2\n",
      "7   Mahindra   2010     8\n",
      "8   Mahindra   2013     7\n",
      "9       Ford   2010     2\n",
      "10    Toyota   2010     4\n",
      "11      Ford   2011     2\n",
      "\n",
      " Group by year:\n",
      "        Brand  Years  Sold\n",
      "0     Maruti   2010     6\n",
      "4    Hyundai   2010     3\n",
      "7   Mahindra   2010     8\n",
      "9       Ford   2010     2\n",
      "10    Toyota   2010     4\n"
     ]
    }
   ],
   "source": [
    "import pandas as pd\n",
    "car_selling_data={'Brand':['Maruti','Maruti','Maruti','Maruti','Hyundai','Hyundai','Toyota','Mahindra','Mahindra','Ford','Toyota','Ford'],'Years':[2010,2011,2009,2013,2010,2011,2011,2010,2013,2010,2010,2011],'Sold':[6,7,9,8,3,5,2,8,7,2,4,2]}\n",
    "df=pd.DataFrame(car_selling_data)\n",
    "print('\\n original DataFrame\\n',df)\n",
    "grouped=df.groupby('Years')\n",
    "print('\\n Group by year:\\n',grouped.get_group(2010))"
   ]
  },
  {
   "cell_type": "code",
   "execution_count": 6,
   "id": "6cd2a804",
   "metadata": {},
   "outputs": [
    {
     "name": "stdout",
     "output_type": "stream",
     "text": [
      "\n",
      " Original DataFrame\n",
      "        Name  Roll_no               Email\n",
      "0        Np       20        NP@gmail.com\n",
      "1   Preetha       25   Preetha@gmail.com\n",
      "2    Rakesh       20    Rakesh@gmail.com\n",
      "3   Prathap       32   Prathap@gmail.com\n",
      "4      Raji       69      Raji@gmail.com\n",
      "5      Subi       32      Subi@gmail.com\n",
      "6    Sachin       20    Sachin@gmail.com\n",
      "7  Karthiga       35  Karthiga@gmail.com\n",
      "8     Kalai       69     Kalai@gmail.com\n",
      "9     Ramki       17     Ramki@gmail.com\n",
      "\n",
      " Removed dulipcate rows:\n",
      "        Name  Roll_no               Email\n",
      "0        Np       20        NP@gmail.com\n",
      "1   Preetha       25   Preetha@gmail.com\n",
      "3   Prathap       32   Prathap@gmail.com\n",
      "4      Raji       69      Raji@gmail.com\n",
      "7  Karthiga       35  Karthiga@gmail.com\n",
      "9     Ramki       17     Ramki@gmail.com\n"
     ]
    }
   ],
   "source": [
    "student_data={'Name':['Np','Preetha','Rakesh','Prathap','Raji','Subi','Sachin','Karthiga','Kalai','Ramki'],'Roll_no':[20,25,20,32,69,32,20,35,69,17],'Email':['NP@gmail.com','Preetha@gmail.com','Rakesh@gmail.com','Prathap@gmail.com','Raji@gmail.com','Subi@gmail.com','Sachin@gmail.com','Karthiga@gmail.com','Kalai@gmail.com','Ramki@gmail.com']}\n",
    "df=pd.DataFrame(student_data)\n",
    "print('\\n Original DataFrame\\n',df)\n",
    "non_duplicate=df[~df.duplicated('Roll_no')]\n",
    "print('\\n Removed dulipcate rows:\\n',non_duplicate)"
   ]
  },
  {
   "cell_type": "code",
   "execution_count": 7,
   "id": "ad8de2ac",
   "metadata": {},
   "outputs": [
    {
     "name": "stdout",
     "output_type": "stream",
     "text": [
      "Original DataFrame1\n",
      "     ID  Name Branch\n",
      "0  101  Arun   Mech\n",
      "1  102  Pavi   Mech\n",
      "2  103   Sai    CSE\n",
      "3  104   Poo    CSE\n",
      "4  105  Ravi    CSE\n",
      "5  106   Anu    EEE\n",
      "6  107  Jack    EEE\n",
      "7  108  Amit    EEE\n",
      "8  109   Ria     IT\n",
      "9  110  Savi     IT\n",
      "Original DataFrame2\n",
      "     ID Pending\n",
      "0  102    5000\n",
      "1  102     250\n",
      "2  103     NIL\n",
      "3  104    9000\n",
      "4  105   15000\n",
      "5  106     NIL\n",
      "6  107    4500\n",
      "7  108    1800\n",
      "8  109     250\n",
      "9  110     NIL\n",
      "Merged DataFrame\n",
      "     ID  Name Branch Pending\n",
      "0  102  Pavi   Mech    5000\n",
      "1  102  Pavi   Mech     250\n",
      "2  103   Sai    CSE     NIL\n",
      "3  104   Poo    CSE    9000\n",
      "4  105  Ravi    CSE   15000\n",
      "5  106   Anu    EEE     NIL\n",
      "6  107  Jack    EEE    4500\n",
      "7  108  Amit    EEE    1800\n",
      "8  109   Ria     IT     250\n",
      "9  110  Savi     IT     NIL\n"
     ]
    }
   ],
   "source": [
    "details=pd.DataFrame({'ID':[101,102,103,104,105,106,107,108,109,110],'Name':['Arun','Pavi','Sai','Poo','Ravi','Anu','Jack','Amit','Ria','Savi'],'Branch':['Mech','Mech','CSE','CSE','CSE','EEE','EEE','EEE','IT','IT']})\n",
    "print('Original DataFrame1\\n',details)\n",
    "fees_status=pd.DataFrame({'ID':[102,102,103,104,105,106,107,108,109,110],'Pending':['5000','250','NIL','9000','15000','NIL','4500','1800','250','NIL']})\n",
    "print('Original DataFrame2\\n',fees_status)\n",
    "print('Merged DataFrame\\n',pd.merge(details,fees_status,on='ID'))"
   ]
  },
  {
   "cell_type": "code",
   "execution_count": null,
   "id": "e0266276",
   "metadata": {},
   "outputs": [],
   "source": []
  }
 ],
 "metadata": {
  "kernelspec": {
   "display_name": "Python 3 (ipykernel)",
   "language": "python",
   "name": "python3"
  },
  "language_info": {
   "codemirror_mode": {
    "name": "ipython",
    "version": 3
   },
   "file_extension": ".py",
   "mimetype": "text/x-python",
   "name": "python",
   "nbconvert_exporter": "python",
   "pygments_lexer": "ipython3",
   "version": "3.11.5"
  }
 },
 "nbformat": 4,
 "nbformat_minor": 5
}
