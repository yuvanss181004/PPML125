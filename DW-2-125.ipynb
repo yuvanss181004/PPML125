{
 "cells": [
  {
   "cell_type": "code",
   "execution_count": 29,
   "id": "be3a0bfc-408c-4cdc-8f34-4fb3063f1671",
   "metadata": {},
   "outputs": [
    {
     "name": "stdout",
     "output_type": "stream",
     "text": [
      "Original DataFrame:\n",
      "    Name  Age Gender Marks\n",
      "0   sai   20      M    90\n",
      "1  yuva   18      F    76\n",
      "2   poo   19      M   NaN\n",
      "3  savi   20      F    74\n",
      "4  ruba   18      F    65\n",
      "5   raj   17      M   NaN\n",
      "6  ravi   19      M    71\n",
      "\n",
      "Replacing NaN with average marks:\n",
      "    Name  Age Gender  Marks\n",
      "0   sai   20      M   90.0\n",
      "1  yuva   18      F   76.0\n",
      "2   poo   19      M   90.0\n",
      "3  savi   20      F   74.0\n",
      "4  ruba   18      F   65.0\n",
      "5   raj   17      M   90.0\n",
      "6  ravi   19      M   71.0\n"
     ]
    },
    {
     "name": "stderr",
     "output_type": "stream",
     "text": [
      "/var/folders/vn/dx_8qxpn4ms_4ss7fvbgk4pr0000gp/T/ipykernel_1659/2170915344.py:15: FutureWarning: Downcasting behavior in `replace` is deprecated and will be removed in a future version. To retain the old behavior, explicitly call `result.infer_objects(copy=False)`. To opt-in to the future behavior, set `pd.set_option('future.no_silent_downcasting', True)`\n",
      "  df=df.replace(to_replace='NaN',value=avg)\n"
     ]
    }
   ],
   "source": [
    "import pandas as pd\n",
    "#Assign data\n",
    "data={'Name':['sai','yuva','poo','savi','ruba','raj','ravi'],\n",
    "    'Age':[20,18,19,20,18,17,19],\n",
    "    'Gender':['M','F','M','F','F','M','M'],\n",
    "    'Marks':[90,76,'NaN',74,65,'NaN',71]}\n",
    "df=pd.DataFrame(data)\n",
    "print(\"Original DataFrame:\\n\",df)\n",
    "c=avg=0\n",
    "for ele in df['Marks']:\n",
    "    if str(ele).isnumeric():\n",
    "        c+=1\n",
    "        avg+=ele\n",
    "        avg/=c\n",
    "        df=df.replace(to_replace='NaN',value=avg)\n",
    "print(\"\\nReplacing NaN with average marks:\\n\",df)\n",
    "        "
   ]
  },
  {
   "cell_type": "code",
   "execution_count": 31,
   "id": "d24c37d8-fa07-4210-b38b-bf169a368c3f",
   "metadata": {},
   "outputs": [
    {
     "name": "stdout",
     "output_type": "stream",
     "text": [
      "\n",
      " Filtering and dropping function:\n",
      "    Name Gender  Marks\n",
      "0   sai      M   90.0\n",
      "1  yuva      F   76.0\n",
      "2   poo      M   90.0\n",
      "5   raj      M   90.0\n"
     ]
    }
   ],
   "source": [
    "df=df[df['Marks']>=75]\n",
    "df=df.drop(['Age'],axis=1)\n",
    "print(\"\\n Filtering and dropping function:\\n\",df)"
   ]
  },
  {
   "cell_type": "code",
   "execution_count": 37,
   "id": "57ff0dd8-4c47-427f-a1bb-c8babff94542",
   "metadata": {},
   "outputs": [
    {
     "name": "stdout",
     "output_type": "stream",
     "text": [
      "\n",
      " original dataframe1:\n",
      "    Name Subject_id  Marks_scored\n",
      "1   sai       sub1            98\n",
      "2   Raj       sub2            90\n",
      "3  yuva       sub3            92\n",
      "4   Ram       sub4            85\n",
      "5   Sam       sub5            89\n",
      "\n",
      " original dataframe2:\n",
      "     Name subject  Marks_scored\n",
      "1  sanju    sub2            73\n",
      "2   ravi    sub4            80\n",
      "3  shree    sub3            85\n",
      "4   niki    sub6            98\n",
      "5  rahul    sub5            79\n",
      "    Name Subject_id  Marks_scored subject\n",
      "1    sai       sub1            98     NaN\n",
      "2    Raj       sub2            90     NaN\n",
      "3   yuva       sub3            92     NaN\n",
      "4    Ram       sub4            85     NaN\n",
      "5    Sam       sub5            89     NaN\n",
      "1  sanju        NaN            73    sub2\n",
      "2   ravi        NaN            80    sub4\n",
      "3  shree        NaN            85    sub3\n",
      "4   niki        NaN            98    sub6\n",
      "5  rahul        NaN            79    sub5\n"
     ]
    }
   ],
   "source": [
    "one=pd.DataFrame({\n",
    "    'Name':['sai','Raj','yuva','Ram','Sam'],\n",
    "    'Subject_id':['sub1','sub2','sub3','sub4','sub5'],\n",
    "    'Marks_scored':[98,90,92,85,89]},\n",
    "    index=[1,2,3,4,5])\n",
    "two=pd.DataFrame({\n",
    "    'Name':['sanju','ravi','shree','niki','rahul'],\n",
    "    'subject':['sub2','sub4','sub3','sub6','sub5'],\n",
    "    'Marks_scored':[73,80,85,98,79]},\n",
    "    index=[1,2,3,4,5])\n",
    "print(\"\\n original dataframe1:\\n\",one)\n",
    "print(\"\\n original dataframe2:\\n\",two)\n",
    "print(pd.concat([one,two]))"
   ]
  },
  {
   "cell_type": "code",
   "execution_count": null,
   "id": "6bcbfeab-8141-4089-82ee-d2cc12d7e17f",
   "metadata": {},
   "outputs": [],
   "source": []
  }
 ],
 "metadata": {
  "kernelspec": {
   "display_name": "Python 3 (ipykernel)",
   "language": "python",
   "name": "python3"
  },
  "language_info": {
   "codemirror_mode": {
    "name": "ipython",
    "version": 3
   },
   "file_extension": ".py",
   "mimetype": "text/x-python",
   "name": "python",
   "nbconvert_exporter": "python",
   "pygments_lexer": "ipython3",
   "version": "3.12.7"
  }
 },
 "nbformat": 4,
 "nbformat_minor": 5
}
