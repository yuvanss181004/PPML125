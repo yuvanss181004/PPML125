{
 "cells": [
  {
   "cell_type": "code",
   "execution_count": 1,
   "id": "ac6a0d93",
   "metadata": {},
   "outputs": [],
   "source": [
    "f=open(\"/Users/Student/Downloads/data1.txt\",\"w\")\n",
    "f.write(\"Sai\\n\")\n",
    "f.write(\"Raj\\n\")\n",
    "f.write(\"John\\n\")\n",
    "f.close()"
   ]
  },
  {
   "cell_type": "code",
   "execution_count": 2,
   "id": "43194a70",
   "metadata": {},
   "outputs": [
    {
     "name": "stdout",
     "output_type": "stream",
     "text": [
      "Sai\n",
      "\n",
      "Raj\n",
      "\n",
      "John\n",
      "\n"
     ]
    }
   ],
   "source": [
    "a=open(\"/Users/Student/Downloads/data1.txt\",\"r\")\n",
    "print(a.readline())\n",
    "print(a.readline())\n",
    "print(a.readline())\n",
    "a.close()"
   ]
  },
  {
   "cell_type": "code",
   "execution_count": 3,
   "id": "8151fcf9",
   "metadata": {},
   "outputs": [],
   "source": [
    "b=open(\"/Users/Student/Downloads/data1.txt\",\"a\")\n",
    "b.write(\"Ram\\n\")\n",
    "b.write(\"kumar\\n\")\n",
    "b.close()\n",
    "\n"
   ]
  },
  {
   "cell_type": "code",
   "execution_count": 4,
   "id": "5f1d753d",
   "metadata": {},
   "outputs": [
    {
     "name": "stdout",
     "output_type": "stream",
     "text": [
      "Sai\n",
      "Raj\n",
      "John\n",
      "Ram\n",
      "kumar\n",
      "\n"
     ]
    }
   ],
   "source": [
    "c=open(\"/Users/Student/Downloads/data1.txt\",\"r\")\n",
    "print(c.read())\n",
    "c.close()"
   ]
  },
  {
   "cell_type": "code",
   "execution_count": 5,
   "id": "05614848",
   "metadata": {},
   "outputs": [
    {
     "name": "stdout",
     "output_type": "stream",
     "text": [
      "Sai\n",
      "\n"
     ]
    }
   ],
   "source": [
    "with open(\"/Users/Student/Downloads/data1.txt\",\"r\")as file:\n",
    "    lines=file.readline()\n",
    "    print(lines)"
   ]
  },
  {
   "cell_type": "code",
   "execution_count": 6,
   "id": "9bec3883",
   "metadata": {},
   "outputs": [
    {
     "name": "stdout",
     "output_type": "stream",
     "text": [
      "London\n"
     ]
    }
   ],
   "source": [
    "import json\n",
    "x='{\"name\":\"Raj\",\"Age\":\"20\",\"City\":\"London\"}'\n",
    "y=json.loads(x)\n",
    "print(y[\"City\"])"
   ]
  },
  {
   "cell_type": "code",
   "execution_count": 7,
   "id": "1725dcbb",
   "metadata": {},
   "outputs": [
    {
     "name": "stdout",
     "output_type": "stream",
     "text": [
      "\"{\\\"name\\\":\\\"Raj\\\",\\\"Age\\\":\\\"20\\\",\\\"City\\\":\\\"London\\\"}\"\n"
     ]
    }
   ],
   "source": [
    "x\n",
    "{\n",
    "    \"Name\":\"Raj\",\n",
    "    \"Age\":\"20\",\n",
    "    \"City\":\"London\"\n",
    "}\n",
    "y=json.dumps(x)\n",
    "print(y)\n"
   ]
  },
  {
   "cell_type": "code",
   "execution_count": null,
   "id": "5af088f0",
   "metadata": {},
   "outputs": [],
   "source": []
  }
 ],
 "metadata": {
  "kernelspec": {
   "display_name": "Python 3 (ipykernel)",
   "language": "python",
   "name": "python3"
  },
  "language_info": {
   "codemirror_mode": {
    "name": "ipython",
    "version": 3
   },
   "file_extension": ".py",
   "mimetype": "text/x-python",
   "name": "python",
   "nbconvert_exporter": "python",
   "pygments_lexer": "ipython3",
   "version": "3.11.4"
  }
 },
 "nbformat": 4,
 "nbformat_minor": 5
}
